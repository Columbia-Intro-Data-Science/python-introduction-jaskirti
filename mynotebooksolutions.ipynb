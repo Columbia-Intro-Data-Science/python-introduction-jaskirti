





hello world. it is going to be an amazing life.


