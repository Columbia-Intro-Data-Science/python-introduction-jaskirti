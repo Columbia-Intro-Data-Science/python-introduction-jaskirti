{
 "cells": [
  {
   "cell_type": "markdown",
   "metadata": {},
   "source": [
    "# Introduction\n",
    "\n",
    "\n",
    "In this homework, you'll be required to load in a dataset which has about 500 features. By using\n",
    "Lasso ($L^1$) regression, we'll find the optimal constraint on the $L^1$ norm which gives us the best\n",
    "$R^2$. Then we'll plot the results.\n",
    "\n",
    "Recall we minimize the following on ** training data: $(x_i,y_i)$**\n",
    "\n",
    "$$\\min_{\\beta} \\frac{1}{N} \\sum_{i=1}^N (y_i - \\beta \\cdot x_i)^2 + \\lambda \\|\\beta \\|_{L^1}.$$\n",
    "\n",
    "\n",
    "Denoting $\\beta_{\\lambda}$ as the minimum of the above, we then choose $\\lambda$ to maximize $R^2$ on **testing data: $(x_j,y_j)$**\n",
    "\n",
    "$$ \\max_{\\lambda} 1 - \\frac{\\sum_{j} (y_j - \\beta_{\\lambda} \\cdot x_j)^2}{\\sum_j (y_j - \\bar y)^2}$$\n"
   ]
  },
  {
   "cell_type": "markdown",
   "metadata": {},
   "source": [
    "# Lasso Regularization"
   ]
  },
  {
   "cell_type": "markdown",
   "metadata": {},
   "source": [
    "## Problem 1"
   ]
  },
  {
   "cell_type": "markdown",
   "metadata": {},
   "source": [
    "a) Load in hw2data.csv from ../data into a pandas dataframe."
   ]
  },
  {
   "cell_type": "markdown",
   "metadata": {},
   "source": [
    "b) Set y to be the y variable in the dataframe from a and X to be the remaining features."
   ]
  },
  {
   "cell_type": "markdown",
   "metadata": {},
   "source": [
    "c) As shown in the Booking.com example, using Lasso regression, find the regularization strength\n",
    "which optimizes the $R^2$. \n",
    "\n",
    "**Hint:** Take a range of alpha from `np.logspace(-8,-3,1000)`"
   ]
  },
  {
   "cell_type": "markdown",
   "metadata": {},
   "source": [
    "d) Plot the training perforamnce versus the testing performance, and observe whree the test performance is\n",
    "maximized. I've written an outline of the code you need."
   ]
  },
  {
   "cell_type": "code",
   "execution_count": 7,
   "metadata": {},
   "outputs": [
    {
     "name": "stderr",
     "output_type": "stream",
     "text": [
      "C:\\Users\\Ajay\\Anaconda3\\lib\\site-packages\\sklearn\\linear_model\\coordinate_descent.py:491: ConvergenceWarning: Objective did not converge. You might want to increase the number of iterations. Fitting data with very small alpha may cause precision problems.\n",
      "  ConvergenceWarning)\n",
      "C:\\Users\\Ajay\\Anaconda3\\lib\\site-packages\\sklearn\\linear_model\\coordinate_descent.py:491: ConvergenceWarning: Objective did not converge. You might want to increase the number of iterations. Fitting data with very small alpha may cause precision problems.\n",
      "  ConvergenceWarning)\n",
      "C:\\Users\\Ajay\\Anaconda3\\lib\\site-packages\\sklearn\\linear_model\\coordinate_descent.py:491: ConvergenceWarning: Objective did not converge. You might want to increase the number of iterations. Fitting data with very small alpha may cause precision problems.\n",
      "  ConvergenceWarning)\n",
      "C:\\Users\\Ajay\\Anaconda3\\lib\\site-packages\\sklearn\\linear_model\\coordinate_descent.py:491: ConvergenceWarning: Objective did not converge. You might want to increase the number of iterations. Fitting data with very small alpha may cause precision problems.\n",
      "  ConvergenceWarning)\n",
      "C:\\Users\\Ajay\\Anaconda3\\lib\\site-packages\\sklearn\\linear_model\\coordinate_descent.py:491: ConvergenceWarning: Objective did not converge. You might want to increase the number of iterations. Fitting data with very small alpha may cause precision problems.\n",
      "  ConvergenceWarning)\n",
      "C:\\Users\\Ajay\\Anaconda3\\lib\\site-packages\\sklearn\\linear_model\\coordinate_descent.py:491: ConvergenceWarning: Objective did not converge. You might want to increase the number of iterations. Fitting data with very small alpha may cause precision problems.\n",
      "  ConvergenceWarning)\n",
      "C:\\Users\\Ajay\\Anaconda3\\lib\\site-packages\\sklearn\\linear_model\\coordinate_descent.py:491: ConvergenceWarning: Objective did not converge. You might want to increase the number of iterations. Fitting data with very small alpha may cause precision problems.\n",
      "  ConvergenceWarning)\n",
      "C:\\Users\\Ajay\\Anaconda3\\lib\\site-packages\\sklearn\\linear_model\\coordinate_descent.py:491: ConvergenceWarning: Objective did not converge. You might want to increase the number of iterations. Fitting data with very small alpha may cause precision problems.\n",
      "  ConvergenceWarning)\n",
      "C:\\Users\\Ajay\\Anaconda3\\lib\\site-packages\\sklearn\\linear_model\\coordinate_descent.py:491: ConvergenceWarning: Objective did not converge. You might want to increase the number of iterations. Fitting data with very small alpha may cause precision problems.\n",
      "  ConvergenceWarning)\n",
      "C:\\Users\\Ajay\\Anaconda3\\lib\\site-packages\\sklearn\\linear_model\\coordinate_descent.py:491: ConvergenceWarning: Objective did not converge. You might want to increase the number of iterations. Fitting data with very small alpha may cause precision problems.\n",
      "  ConvergenceWarning)\n",
      "C:\\Users\\Ajay\\Anaconda3\\lib\\site-packages\\sklearn\\linear_model\\coordinate_descent.py:491: ConvergenceWarning: Objective did not converge. You might want to increase the number of iterations. Fitting data with very small alpha may cause precision problems.\n",
      "  ConvergenceWarning)\n",
      "C:\\Users\\Ajay\\Anaconda3\\lib\\site-packages\\sklearn\\linear_model\\coordinate_descent.py:491: ConvergenceWarning: Objective did not converge. You might want to increase the number of iterations. Fitting data with very small alpha may cause precision problems.\n",
      "  ConvergenceWarning)\n",
      "C:\\Users\\Ajay\\Anaconda3\\lib\\site-packages\\sklearn\\linear_model\\coordinate_descent.py:491: ConvergenceWarning: Objective did not converge. You might want to increase the number of iterations. Fitting data with very small alpha may cause precision problems.\n",
      "  ConvergenceWarning)\n",
      "C:\\Users\\Ajay\\Anaconda3\\lib\\site-packages\\sklearn\\linear_model\\coordinate_descent.py:491: ConvergenceWarning: Objective did not converge. You might want to increase the number of iterations. Fitting data with very small alpha may cause precision problems.\n",
      "  ConvergenceWarning)\n"
     ]
    },
    {
     "data": {
      "image/png": "[encoded data removed]",
      "text/plain": [
       "<matplotlib.figure.Figure at 0x248e3331d68>"
      ]
     },
     "metadata": {},
     "output_type": "display_data"
    },
    {
     "data": {
      "image/png": "[encoded data removed]",
      "text/plain": [
       "<matplotlib.figure.Figure at 0x248e3423438>"
      ]
     },
     "metadata": {},
     "output_type": "display_data"
    },
    {
     "name": "stdout",
     "output_type": "stream",
     "text": [
      "[array([  1.75991087e+00,   4.00312196e-01,   9.69500501e-01,\n",
      "         2.23753024e+00,   1.86634169e+00,  -9.76383781e-01,\n",
      "         9.48862716e-01,  -1.52490449e-01,  -1.00655160e-01,\n",
      "         4.07301392e-01,   1.44396428e-01,   1.45055327e+00,\n",
      "         7.57343355e-01,   1.18376088e-01,   4.42519615e-01,\n",
      "         3.28924259e-01,   1.49333645e+00,  -2.05439727e-01,\n",
      "         3.09579222e-01,  -8.50073929e-01,  -2.55187458e+00,\n",
      "         6.53165264e-01,   8.63876967e-01,  -7.39785613e-01,\n",
      "         2.26477349e+00,  -1.44842601e+00,   4.06900611e-02,\n",
      "        -1.85784217e-01,   1.52764304e+00,   1.46228505e+00,\n",
      "         1.53005771e-01,   3.73557368e-01,  -8.83650024e-01,\n",
      "        -1.97726793e+00,  -3.38325046e-01,   1.52234135e-01,\n",
      "         1.22639139e+00,   1.20077315e+00,  -3.84667149e-01,\n",
      "        -2.96570616e-01,  -1.04406707e+00,  -1.41450110e+00,\n",
      "        -1.70350917e+00,   1.95279263e+00,  -5.06384307e-01,\n",
      "        -4.33666311e-01,  -1.24651021e+00,   7.72546448e-01,\n",
      "        -1.60943795e+00,  -2.09694406e-01,  -0.00000000e+00,\n",
      "        -0.00000000e+00,  -0.00000000e+00,  -0.00000000e+00,\n",
      "         0.00000000e+00,  -0.00000000e+00,  -0.00000000e+00,\n",
      "         0.00000000e+00,   4.12609234e-04,  -0.00000000e+00,\n",
      "         0.00000000e+00,   0.00000000e+00,  -0.00000000e+00,\n",
      "         0.00000000e+00,  -0.00000000e+00,   0.00000000e+00,\n",
      "         0.00000000e+00,  -0.00000000e+00,   0.00000000e+00,\n",
      "         0.00000000e+00,   0.00000000e+00,  -0.00000000e+00,\n",
      "         0.00000000e+00,   0.00000000e+00,   0.00000000e+00,\n",
      "        -1.61961358e-03,  -0.00000000e+00,  -0.00000000e+00,\n",
      "        -0.00000000e+00,  -0.00000000e+00,  -0.00000000e+00,\n",
      "        -0.00000000e+00,  -0.00000000e+00,   0.00000000e+00,\n",
      "         0.00000000e+00,  -0.00000000e+00,  -0.00000000e+00,\n",
      "         0.00000000e+00,  -0.00000000e+00,   0.00000000e+00,\n",
      "         0.00000000e+00,  -0.00000000e+00,  -0.00000000e+00,\n",
      "         0.00000000e+00,   0.00000000e+00,   0.00000000e+00,\n",
      "        -0.00000000e+00,   0.00000000e+00,   1.69496378e-03,\n",
      "         0.00000000e+00,   0.00000000e+00,  -0.00000000e+00,\n",
      "         0.00000000e+00,   0.00000000e+00,   0.00000000e+00,\n",
      "         0.00000000e+00,   0.00000000e+00,   0.00000000e+00,\n",
      "         0.00000000e+00,   0.00000000e+00,   6.76100278e-05,\n",
      "         0.00000000e+00,  -0.00000000e+00,  -0.00000000e+00,\n",
      "         0.00000000e+00,   0.00000000e+00,  -0.00000000e+00,\n",
      "        -0.00000000e+00,  -0.00000000e+00,  -0.00000000e+00,\n",
      "         0.00000000e+00,   0.00000000e+00,  -0.00000000e+00,\n",
      "        -0.00000000e+00,  -0.00000000e+00,   1.79058826e-03,\n",
      "        -0.00000000e+00,  -0.00000000e+00,   0.00000000e+00,\n",
      "        -3.21971733e-04,  -0.00000000e+00,  -0.00000000e+00,\n",
      "         0.00000000e+00,  -0.00000000e+00,   0.00000000e+00,\n",
      "        -1.36055236e-03,   0.00000000e+00,   0.00000000e+00,\n",
      "         0.00000000e+00,   0.00000000e+00,   4.07914432e-03,\n",
      "        -0.00000000e+00,   0.00000000e+00,  -5.42776451e-04,\n",
      "        -0.00000000e+00,   0.00000000e+00,   2.24870535e-03,\n",
      "        -0.00000000e+00,   0.00000000e+00,   0.00000000e+00,\n",
      "         0.00000000e+00,   0.00000000e+00,   0.00000000e+00,\n",
      "         0.00000000e+00,   6.94017554e-04,  -0.00000000e+00,\n",
      "         0.00000000e+00,   0.00000000e+00,  -0.00000000e+00,\n",
      "        -0.00000000e+00,   0.00000000e+00,   0.00000000e+00,\n",
      "        -0.00000000e+00,  -0.00000000e+00,  -0.00000000e+00,\n",
      "        -0.00000000e+00,   0.00000000e+00,  -0.00000000e+00,\n",
      "        -0.00000000e+00,  -0.00000000e+00,  -1.90743340e-03,\n",
      "        -0.00000000e+00,   0.00000000e+00,   0.00000000e+00,\n",
      "        -0.00000000e+00,  -0.00000000e+00,  -0.00000000e+00,\n",
      "        -0.00000000e+00,  -0.00000000e+00,  -0.00000000e+00,\n",
      "         0.00000000e+00,   0.00000000e+00,  -0.00000000e+00,\n",
      "        -0.00000000e+00,  -2.77892109e-04,   7.08339882e-04,\n",
      "        -0.00000000e+00,  -0.00000000e+00,   0.00000000e+00,\n",
      "        -0.00000000e+00,  -0.00000000e+00,   0.00000000e+00,\n",
      "         0.00000000e+00,   0.00000000e+00,  -0.00000000e+00,\n",
      "        -0.00000000e+00,  -0.00000000e+00,  -0.00000000e+00,\n",
      "        -0.00000000e+00,  -0.00000000e+00,   0.00000000e+00,\n",
      "        -0.00000000e+00,  -0.00000000e+00,   0.00000000e+00,\n",
      "         0.00000000e+00,  -0.00000000e+00,   0.00000000e+00,\n",
      "        -0.00000000e+00,   0.00000000e+00,   0.00000000e+00,\n",
      "        -0.00000000e+00,   7.48788841e-04,  -1.16480064e-03,\n",
      "        -0.00000000e+00,  -0.00000000e+00,  -9.92729083e-04,\n",
      "         0.00000000e+00,  -0.00000000e+00,  -0.00000000e+00,\n",
      "        -1.22431186e-03,   0.00000000e+00,   0.00000000e+00,\n",
      "         0.00000000e+00,  -8.45795086e-04,   0.00000000e+00,\n",
      "        -0.00000000e+00,  -0.00000000e+00,  -0.00000000e+00,\n",
      "         3.31313996e-05,   0.00000000e+00,  -0.00000000e+00,\n",
      "         0.00000000e+00,  -0.00000000e+00,   0.00000000e+00,\n",
      "        -5.57134923e-04,  -0.00000000e+00,  -0.00000000e+00,\n",
      "        -0.00000000e+00,   4.98488388e-04,   0.00000000e+00,\n",
      "        -0.00000000e+00,  -0.00000000e+00,  -0.00000000e+00,\n",
      "         0.00000000e+00,   0.00000000e+00,  -0.00000000e+00,\n",
      "         0.00000000e+00,   0.00000000e+00,  -0.00000000e+00,\n",
      "         1.33980614e-03,  -0.00000000e+00,  -0.00000000e+00,\n",
      "         5.96685892e-05,  -0.00000000e+00,   0.00000000e+00,\n",
      "        -0.00000000e+00,  -0.00000000e+00,  -0.00000000e+00,\n",
      "        -0.00000000e+00,   2.02813763e-03,   0.00000000e+00,\n",
      "        -0.00000000e+00,  -0.00000000e+00,   1.35088026e-04,\n",
      "        -0.00000000e+00,   0.00000000e+00,  -0.00000000e+00,\n",
      "        -0.00000000e+00,  -0.00000000e+00,  -0.00000000e+00,\n",
      "         0.00000000e+00,   0.00000000e+00,  -0.00000000e+00,\n",
      "        -0.00000000e+00,   0.00000000e+00,   0.00000000e+00,\n",
      "         0.00000000e+00,   0.00000000e+00,   7.62351076e-05,\n",
      "         0.00000000e+00,   0.00000000e+00,  -1.99525414e-03,\n",
      "         4.93892227e-04,  -0.00000000e+00,  -0.00000000e+00,\n",
      "         0.00000000e+00,   0.00000000e+00,   0.00000000e+00,\n",
      "         0.00000000e+00,   0.00000000e+00,   0.00000000e+00,\n",
      "        -0.00000000e+00,  -0.00000000e+00,  -0.00000000e+00,\n",
      "        -0.00000000e+00,   0.00000000e+00,  -0.00000000e+00,\n",
      "         0.00000000e+00,  -0.00000000e+00,   0.00000000e+00,\n",
      "         0.00000000e+00,   0.00000000e+00,  -0.00000000e+00,\n",
      "        -0.00000000e+00,  -0.00000000e+00,  -0.00000000e+00,\n",
      "         0.00000000e+00,   0.00000000e+00,  -0.00000000e+00,\n",
      "        -0.00000000e+00,  -0.00000000e+00,  -0.00000000e+00,\n",
      "        -0.00000000e+00,   2.59807944e-03,  -0.00000000e+00,\n",
      "         0.00000000e+00,  -0.00000000e+00,   1.37689563e-03,\n",
      "        -0.00000000e+00,   0.00000000e+00,  -0.00000000e+00,\n",
      "        -0.00000000e+00,   0.00000000e+00,   3.23542884e-04,\n",
      "        -0.00000000e+00,   1.57957553e-03,   0.00000000e+00,\n",
      "        -0.00000000e+00,   0.00000000e+00,   0.00000000e+00,\n",
      "        -9.38288658e-04,  -0.00000000e+00,  -0.00000000e+00,\n",
      "         0.00000000e+00,  -1.66285526e-03,  -0.00000000e+00,\n",
      "         0.00000000e+00,  -9.33095736e-04,   0.00000000e+00,\n",
      "        -0.00000000e+00,   0.00000000e+00,   0.00000000e+00,\n",
      "        -0.00000000e+00,  -0.00000000e+00,   0.00000000e+00,\n",
      "         0.00000000e+00,   0.00000000e+00,  -0.00000000e+00,\n",
      "        -3.78233494e-03,   0.00000000e+00,  -1.14667636e-04,\n",
      "         0.00000000e+00,  -0.00000000e+00,   0.00000000e+00,\n",
      "         0.00000000e+00,  -0.00000000e+00,   5.23311340e-04,\n",
      "        -9.68579409e-04,   0.00000000e+00,   0.00000000e+00,\n",
      "        -1.08985760e-03,   1.09076449e-03,   0.00000000e+00,\n",
      "        -0.00000000e+00,   0.00000000e+00,  -0.00000000e+00,\n",
      "         0.00000000e+00,   0.00000000e+00,   0.00000000e+00,\n",
      "         6.88270720e-04,   0.00000000e+00,   7.28946659e-04,\n",
      "        -0.00000000e+00,   0.00000000e+00,   0.00000000e+00,\n",
      "         0.00000000e+00,   0.00000000e+00,   0.00000000e+00,\n",
      "        -0.00000000e+00,   0.00000000e+00,  -0.00000000e+00,\n",
      "        -0.00000000e+00,  -0.00000000e+00,  -0.00000000e+00,\n",
      "         0.00000000e+00,   0.00000000e+00,   2.24914540e-03,\n",
      "         0.00000000e+00,  -0.00000000e+00,  -0.00000000e+00,\n",
      "        -0.00000000e+00,  -0.00000000e+00,  -6.15397483e-05,\n",
      "         0.00000000e+00,  -0.00000000e+00,  -0.00000000e+00,\n",
      "        -0.00000000e+00,  -0.00000000e+00,  -0.00000000e+00,\n",
      "        -0.00000000e+00,  -1.12820604e-03,   0.00000000e+00,\n",
      "        -0.00000000e+00,   2.28396794e-03,   0.00000000e+00,\n",
      "        -0.00000000e+00,   0.00000000e+00,  -1.59292027e-03,\n",
      "        -0.00000000e+00,  -0.00000000e+00,  -0.00000000e+00,\n",
      "        -0.00000000e+00,  -0.00000000e+00,  -0.00000000e+00,\n",
      "        -4.50477654e-04,  -0.00000000e+00,   0.00000000e+00,\n",
      "         0.00000000e+00,   0.00000000e+00,   0.00000000e+00,\n",
      "        -0.00000000e+00,   1.29501568e-04,  -0.00000000e+00,\n",
      "        -0.00000000e+00,   6.05626566e-04,  -0.00000000e+00,\n",
      "         0.00000000e+00,  -0.00000000e+00,   0.00000000e+00,\n",
      "         0.00000000e+00,   0.00000000e+00,  -0.00000000e+00,\n",
      "         0.00000000e+00,   0.00000000e+00,  -2.48263291e-04,\n",
      "         0.00000000e+00,   0.00000000e+00,  -0.00000000e+00,\n",
      "        -0.00000000e+00,  -0.00000000e+00,  -0.00000000e+00,\n",
      "        -5.67361587e-04,   0.00000000e+00,   0.00000000e+00,\n",
      "        -0.00000000e+00,   0.00000000e+00,   0.00000000e+00,\n",
      "        -0.00000000e+00,   0.00000000e+00,   0.00000000e+00,\n",
      "        -0.00000000e+00,  -0.00000000e+00,   0.00000000e+00,\n",
      "        -0.00000000e+00,  -0.00000000e+00,  -0.00000000e+00,\n",
      "        -0.00000000e+00,   0.00000000e+00,  -0.00000000e+00,\n",
      "        -0.00000000e+00,  -0.00000000e+00,  -0.00000000e+00,\n",
      "        -0.00000000e+00,   0.00000000e+00,  -0.00000000e+00,\n",
      "         0.00000000e+00,   2.13247727e-03,  -2.23649844e-03,\n",
      "         0.00000000e+00,  -0.00000000e+00,  -0.00000000e+00,\n",
      "         0.00000000e+00,   0.00000000e+00,  -0.00000000e+00,\n",
      "         0.00000000e+00,  -0.00000000e+00,   0.00000000e+00,\n",
      "         0.00000000e+00,  -0.00000000e+00,   0.00000000e+00,\n",
      "         0.00000000e+00,   0.00000000e+00,   0.00000000e+00,\n",
      "        -0.00000000e+00,  -0.00000000e+00,  -0.00000000e+00,\n",
      "         0.00000000e+00,   0.00000000e+00,  -0.00000000e+00,\n",
      "         0.00000000e+00,   0.00000000e+00,  -0.00000000e+00,\n",
      "        -0.00000000e+00,  -0.00000000e+00,  -0.00000000e+00,\n",
      "        -0.00000000e+00,  -0.00000000e+00,   0.00000000e+00,\n",
      "         0.00000000e+00,   0.00000000e+00])]\n"
     ]
    },
    {
     "data": {
      "image/png": "[encoded data removed]",
      "text/plain": [
       "<matplotlib.figure.Figure at 0x248e1ac2a90>"
      ]
     },
     "metadata": {},
     "output_type": "display_data"
    },
    {
     "data": {
      "image/png": "[encoded data removed]",
      "text/plain": [
       "<matplotlib.figure.Figure at 0x248e311f5c0>"
      ]
     },
     "metadata": {},
     "output_type": "display_data"
    }
   ],
   "source": [
    "# read data into a DataFrame\n",
    "import pandas as pd\n",
    "import pylab as plt\n",
    "import seaborn\n",
    "from sklearn.linear_model import LinearRegression\n",
    "import numpy.random as nprnd\n",
    "import random\n",
    "import json\n",
    "import numpy as np\n",
    "from sklearn.linear_model import Lasso\n",
    "import sklearn.datasets\n",
    "import sklearn.cross_validation as cv\n",
    "from sklearn import linear_model\n",
    "\n",
    "df = pd.read_csv('C:\\APMAE4990-\\data\\hw2data.csv')\n",
    "df.head()\n",
    "\n",
    "y = df['y']\n",
    "X =df.drop(['y'], axis = 1)\n",
    "\n",
    "alphas = np.logspace(-8,-1,100)\n",
    "\n",
    "X_train, X_test, y_train, y_test = cv.train_test_split(X, y, test_size=0.25, random_state=100)\n",
    "\n",
    "\n",
    "train_errors=[]\n",
    "test_errors=[]\n",
    "\n",
    "coeff=[]\n",
    "\n",
    "alpha_optim=0\n",
    "\n",
    "for a in alphas:\n",
    "    lasso = Lasso()\n",
    "    lasso.set_params(alpha=a)\n",
    "    lasso.fit(X_train, y_train)\n",
    "    test_errors.append(lasso.score(X_test, y_test))\n",
    "    train_errors.append(lasso.score(X_train, y_train))\n",
    "    coeff.append(lasso.coef_)\n",
    "\n",
    "plt.semilogx(alphas, train_errors, label='Train')\n",
    "plt.semilogx(alphas, test_errors, label='Test')\n",
    "plt.vlines(alpha_optim, plt.ylim()[0], np.max(test_errors), color='k',\n",
    "           linewidth=3, label='Optimum on test')\n",
    "plt.legend(loc='lower left')\n",
    "plt.ylim([0, 1.2])\n",
    "plt.xlabel('Regularization parameter')\n",
    "plt.ylabel('Performance')\n",
    "\n",
    "\n",
    "plt.show()\n",
    "\n",
    "plt.plot(alphas, test_errors)\n",
    "plt.show() \n",
    "\n",
    "max_x=alphas[np.argmax(test_errors)]\n",
    "coef=[]\n",
    "\n",
    "lasso = Lasso()\n",
    "lasso.set_params(alpha=max_x)\n",
    "lasso.fit(X_train, y_train)\n",
    "coef.append(lasso.coef_)\n",
    "\n",
    "\n",
    "print(coef)\n",
    "\n",
    "from pandas import Series, DataFrame\n",
    "predictors = X_train.columns\n",
    "\n",
    "coef = Series(lasso.coef_,predictors).sort_values()\n",
    "\n",
    "coef.plot(kind='bar', title='Coefficients')\n",
    "plt.show()\n",
    "\n",
    "#these zeroes signify that the magnitude of coefficients has decreased, giving us a model whis is hopefully not overfitted.\n",
    "\n",
    "from sklearn.model_selection import cross_val_score\n",
    "\n",
    "\n",
    "lasso = Lasso()\n",
    "lasso.set_params(alpha=max_x)\n",
    "R2=cross_val_score(lasso, X, y, cv=5)\n",
    "\n",
    "plt.bar((1,2,3,4,5),R2)\n",
    "plt.title('5-fold validation')\n",
    "plt.show()\n"
   ]
  },
  {
   "cell_type": "markdown",
   "metadata": {},
   "source": [
    "e) Plot the top coefficients based on this optimal paramter. Why do you think so many are zero? "
   ]
  },
  {
   "cell_type": "markdown",
   "metadata": {},
   "source": [
    "f) Compute the $R^2$ with the optimal coefficient found above on 5 folds using cross_val_score and plot the\n",
    "results. Does the model work well on all random subsets?"
   ]
  },
  {
   "cell_type": "markdown",
   "metadata": {},
   "source": [
    "f) Repeat e) but using cross validation. Use error bars on the features which are the standard deviation of the \n",
    "coefficiens obtained above. For this problem I\"ll walk you through the code. You just need to apply your optimal\n",
    "$\\alpha$ found above. "
   ]
  },
  {
   "cell_type": "code",
   "execution_count": 8,
   "metadata": {
    "collapsed": true
   },
   "outputs": [],
   "source": [
    "from sklearn.cross_validation import KFold\n",
    "from sklearn import preprocessing\n",
    "def run_cv_coeffs(X,y,clf_class,**kwargs):\n",
    "    # Construct a kfolds object\n",
    "    kf = KFold(len(y),n_folds=5,shuffle=True)\n",
    "    y_pred = y.copy()\n",
    "    coeffs=[]\n",
    "    # Iterate through folds\n",
    "    for train_index, test_index in kf:\n",
    "        \n",
    "        X_train, X_test = X[train_index], X[test_index]\n",
    "        y_train = y[train_index]\n",
    "        # Initialize a classifier with key word arguments\n",
    "        clf = clf_class(**kwargs)\n",
    "        clf.fit(X_train,y_train)\n",
    "        y_pred[test_index] = clf.predict(X_test)\n",
    "        coeffs.append(clf.coef_)\n",
    "    return coeffs\n",
    "\n",
    "\n",
    "\n",
    "scaler = preprocessing.StandardScaler()\n",
    "X_scaled = X.as_matrix().astype(np.float)\n",
    "X_scaled = scaler.fit_transform(X)\n",
    "\n",
    "coeffs=run_cv_coeffs(X_scaled,np.array(y),Lasso,alpha=max_x)"
   ]
  },
  {
   "cell_type": "code",
   "execution_count": 9,
   "metadata": {},
   "outputs": [
    {
     "data": {
      "text/plain": [
       "<matplotlib.figure.Figure at 0x248e20a29e8>"
      ]
     },
     "metadata": {},
     "output_type": "display_data"
    },
    {
     "data": {
      "image/png": "[encoded data removed]",
      "text/plain": [
       "<matplotlib.figure.Figure at 0x248e20a2cc0>"
      ]
     },
     "metadata": {},
     "output_type": "display_data"
    }
   ],
   "source": [
    "def get_coeffs(coeffs):\n",
    "    coeffs_avgd = [(coeffs[0][i] + coeffs[1][i] + coeffs[2][i] + coeffs[3][i] + coeffs[4][i])/5 for i in range(0,len(X.columns))]\n",
    "    coeffs_std = [np.std([coeffs[0][i],coeffs[1][i],coeffs[2][i],coeffs[3][i],coeffs[4][i]]) for i in range(0,len(X.columns))]\n",
    "    return coeffs_avgd, coeffs_std\n",
    "coeffs_avg,coeffs_std=get_coeffs(coeffs)\n",
    "dfCoeffs = pd.DataFrame({'type':X.columns.values, 'coef':coeffs_avg, 'std':coeffs_std})\n",
    "dfCoeffs = dfCoeffs[(dfCoeffs['coef']>1) |(dfCoeffs['coef']<-1) ]\n",
    "plt.figure(figsize=(15,15))\n",
    "dfCoeffs_sorted = dfCoeffs.sort_values(['coef'])[::-1]\n",
    "yerr_vals = dfCoeffs_sorted['std'].values\n",
    "dfCoeffs_sorted.plot(x='type',y='coef',kind='bar',yerr=yerr_vals,figsize=(15,15))\n",
    "plt.show()"
   ]
  },
  {
   "cell_type": "code",
   "execution_count": null,
   "metadata": {},
   "outputs": [],
   "source": []
  },
  {
   "cell_type": "code",
   "execution_count": null,
   "metadata": {
    "collapsed": true
   },
   "outputs": [],
   "source": []
  }
 ],
 "metadata": {
  "anaconda-cloud": {},
  "kernelspec": {
   "display_name": "Python 3",
   "language": "python",
   "name": "python3"
  },
  "language_info": {
   "codemirror_mode": {
    "name": "ipython",
    "version": 3
   },
   "file_extension": ".py",
   "mimetype": "text/x-python",
   "name": "python",
   "nbconvert_exporter": "python",
   "pygments_lexer": "ipython3",
   "version": "3.6.3"
  }
 },
 "nbformat": 4,
 "nbformat_minor": 1
}
